{
 "cells": [
  {
   "cell_type": "markdown",
   "metadata": {},
   "source": [
    "# Virtualenv Enivornments"
   ]
  },
  {
   "cell_type": "markdown",
   "metadata": {},
   "source": [
    "In the past, the lab has used anaconda environments. I have found these to usually work just fine, however conda doesn't work well with certain packages like nilearn or nibabel along with other less popular packages. Also, conda has a bigger overhead due to default packages it downloads upon installation. Therefore, I have switched over to using python's recommend virtualenv package (part of the package is now included as part of the python standard library via venv, but the virtualenv package is complete, upgradable, and I use that).  \n",
    "Virtualenv works very similar to conda so the switch is simple."
   ]
  },
  {
   "cell_type": "markdown",
   "metadata": {},
   "source": [
    "## Create an Environment"
   ]
  },
  {
   "cell_type": "markdown",
   "metadata": {},
   "source": [
    "To create an environment you would use the following command with you environment name of choice.\n",
    "```\n",
    "virtualenv env_name\n",
    "```"
   ]
  },
  {
   "cell_type": "markdown",
   "metadata": {},
   "source": [
    "## Activate the Environment"
   ]
  },
  {
   "cell_type": "markdown",
   "metadata": {},
   "source": [
    "To activate the environment, use the following command.\n",
    "\n",
    "```\n",
    "source env_name/bin/activate\n",
    "```\n",
    "\n",
    "You should now see the (env_name) to the left our your terminal."
   ]
  },
  {
   "cell_type": "markdown",
   "metadata": {},
   "source": [
    "## Adding packages"
   ]
  },
  {
   "cell_type": "markdown",
   "metadata": {},
   "source": [
    "To add packages to the environment, use pip normally.\n",
    "\n",
    "```\n",
    "pip install package_names\n",
    "```\n",
    "\n",
    "Note you don't need the --user."
   ]
  },
  {
   "cell_type": "markdown",
   "metadata": {},
   "source": [
    "## Deactivating Environment"
   ]
  },
  {
   "cell_type": "markdown",
   "metadata": {},
   "source": [
    "To deactivate the environment, use the following command.\n",
    "```\n",
    "deactivate\n",
    "```\n",
    "\n",
    "You should no longer see the (env_name) to the left of your terminal."
   ]
  },
  {
   "cell_type": "markdown",
   "metadata": {},
   "source": [
    "# Our environments"
   ]
  },
  {
   "cell_type": "markdown",
   "metadata": {},
   "source": [
    "I have been storing virtualenvs here /mnt/nfs/lss/lss_kahwang_hpc/virtualenvs  \n",
    "There is a base environment (useful for most things running on argon) and an nda environment (for nda uploads)  \n",
    "__We should try to get in the habit of creating one environment per project we are working on__"
   ]
  },
  {
   "cell_type": "markdown",
   "metadata": {},
   "source": [
    "# Common lab python modules & PYTHONPATH"
   ]
  },
  {
   "cell_type": "markdown",
   "metadata": {},
   "source": [
    "We have commonly used python modules in the /mnt/nfs/lss/lss_kahwang_hpc/scripts folder. To be able to import these modules, we need to add the path to the PYTHONPATH, where python imports packages from.  \n",
    "Add the following lines to your bashrc on either thalamege or argon to be able to import our python modules in the scripts/ folder and to activate the base environment upon startup.\n",
    "\n",
    "Thalamege:  \n",
    "export PYTHONPATH=${PYTHONPATH}:/mnt/nfs/lss/lss_kahwang_hpc/scripts\n",
    "source /mnt/nfs/lss/lss_kahwang_hpc/virtualenvs/base/bin/activate\n",
    "\n",
    "Argon:  \n",
    "export PYTHONPATH=${PYTHONPATH}:/Shared/lss_kahwang_hpc/scripts\n",
    "source /Shared/lss_kahwang_hpc/virtualenvs/base/bin/activate\n"
   ]
  }
 ],
 "metadata": {
  "kernelspec": {
   "display_name": "Python 3.8.3 64-bit ('base': conda)",
   "name": "python383jvsc74a57bd0b945bfa426ab19dcb1b57a95042a567490cf91a191c6db7383bb4e52050ebd91"
  },
  "language_info": {
   "name": "python",
   "version": ""
  },
  "metadata": {
   "interpreter": {
    "hash": "b945bfa426ab19dcb1b57a95042a567490cf91a191c6db7383bb4e52050ebd91"
   }
  },
  "orig_nbformat": 2
 },
 "nbformat": 4,
 "nbformat_minor": 2
}