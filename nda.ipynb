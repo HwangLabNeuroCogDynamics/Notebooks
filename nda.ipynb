{
 "cells": [
  {
   "cell_type": "markdown",
   "metadata": {},
   "source": [
    "# NDA Data Upload"
   ]
  },
  {
   "cell_type": "markdown",
   "metadata": {},
   "source": [
    "## Overview"
   ]
  },
  {
   "cell_type": "markdown",
   "metadata": {},
   "source": [
    "Upload Steps \n",
    "+ All data in BIDS format\n",
    "+ Subject info entered into excel sheet (need DOB, session dates, gender, task, etc)\n",
    "+ Enter our subject id (ie 10001) and GUID from NDA tool into mapping.txt file\n",
    "+ Run nda_upload.py script on thalamege to prepare data for upload\n",
    "+ Upload fMRI, Diffusion, Resting-state data via HTML validation tool on NDA site (https://nda.nih.gov/vt/) or if EEG data, you must use nda_upload.py script to upload"
   ]
  },
  {
   "cell_type": "markdown",
   "metadata": {},
   "source": [
    "**I have put most of the nda uploads at /mnt/nfs/lss/lss_kahwang_hpc/data/NDA_uploads**"
   ]
  },
  {
   "cell_type": "markdown",
   "metadata": {},
   "source": [
    "## Upload Script"
   ]
  },
  {
   "cell_type": "markdown",
   "metadata": {},
   "source": [
    "### Installing packages"
   ]
  },
  {
   "cell_type": "markdown",
   "metadata": {},
   "source": [
    "pip3 install -r /mnt/nfs/lss/lss_kahwang_hpc/data/NDA_uploads/requirements.txt\n",
    "\n",
    "The packages in that file are listed below\n",
    "\n",
    "cffi==1.15.0   \n",
    "cryptography==36.0.1  \n",
    "et-xmlfile==1.1.0  \n",
    "future==0.18.2  \n",
    "glob2==0.7  \n",
    "msoffcrypto-tool==5.0.0  \n",
    "natsort==8.1.0  \n",
    "nibabel==3.2.2  \n",
    "numpy  \n",
    "olefile==0.46  \n",
    "openpyxl==3.0.9  \n",
    "packaging==21.3  \n",
    "pandas  \n",
    "pycparser==2.21  \n",
    "pyparsing==3.0.7  \n",
    "python-dateutil==2.8.2  \n",
    "pytz==2021.3  \n",
    "six==1.16.0  \n",
    "xlrd==1.1.0  "
   ]
  },
  {
   "cell_type": "markdown",
   "metadata": {},
   "source": [
    "You will also need to install my hacked version of bids2nda\n",
    "\n",
    "```\n",
    "pip3 install git+https://github.com/evansorenson/bids2nda.git#egg=bids2nda\n",
    "```\n",
    "\n",
    "Finally, install nda-tools (needed for EEG uploads via command line) \n",
    "\n",
    "```\n",
    "pip3 install nda-tools\n",
    "```"
   ]
  },
  {
   "cell_type": "markdown",
   "metadata": {},
   "source": [
    "### Adding subjects to mapping.txt"
   ]
  },
  {
   "cell_type": "markdown",
   "metadata": {},
   "source": [
    "This script will no work without a proper mapping.txt file. You will find the mapping.txt in the upload directory. Put all subjects you want to upload in the file. You must be the SubjectID followed by a space, a dash, a space, and finally the GUID.\n",
    "\n",
    "```\n",
    "SubjectID - GUID\n",
    "10001 - NDAR893FAKE\n",
    "```"
   ]
  },
  {
   "cell_type": "markdown",
   "metadata": {},
   "source": [
    "### Running the script"
   ]
  },
  {
   "cell_type": "markdown",
   "metadata": {},
   "source": [
    "```\n",
    "[esorenson@thalamege scripts]$ python3 nda_upload/nda_upload.py -h\n",
    "usage: [Upload Dir] [Task] [--copy_dir Copy Dir] [--eeg] [--upload 'Title of NDA Submission' 'Description of NDA Submission'] ... \n",
    "\n",
    "NDA Upload subject\n",
    "\n",
    "positional arguments:\n",
    "  upload_dir            directory to upload\n",
    "  task                  task to match in subject info excel column\n",
    "\n",
    "optional arguments:\n",
    "  -h, --help            show this help message and exit\n",
    "  --copy_dir COPY_DIR   directory to copy files from\n",
    "  --eeg                 for eeg files a different workflow using manifest\n",
    "                        structure is needed, default is false\n",
    "  --upload [UPLOAD [UPLOAD ...]]\n",
    "                        No data preparation. Upload data to NDA. Takes 2\n",
    "                        arguments: title and description for upload.\n",
    "```"
   ]
  },
  {
   "cell_type": "markdown",
   "metadata": {},
   "source": [
    "*If you get a permission denied error for the subject info sheet, run this command and enter your password*  \n",
    "usr/bin/kinit"
   ]
  },
  {
   "cell_type": "markdown",
   "metadata": {},
   "source": [
    "Run the script to prepare the data. If you have new subjects to add, use the --copy_dir to copy them from their normal BIDS location into their NDA upload directory  \n",
    "\n",
    "The script will output a data structure text file (image03 for MRI and eeg_subjects for EEG). This is what is used to upload to NDA. The EEG upload will also generate manifest files, mapping data files to each subject.\n",
    "\n",
    "**When running upload for EEG, you will need to be on your own computer (Thalamege can't connect to NDA via ssh) and have the rdss and lss drives mounted**"
   ]
  },
  {
   "cell_type": "markdown",
   "metadata": {},
   "source": [
    "## Example Script calls"
   ]
  },
  {
   "cell_type": "markdown",
   "metadata": {},
   "source": [
    "### ThalHi fMRI"
   ]
  },
  {
   "cell_type": "markdown",
   "metadata": {},
   "source": [
    "python3 nda_upload/nda_upload.py /mnt/nfs/lss/lss_kahwang_hpc/data/NDA_uploads/thalHi_mri ThalHi --copy_dir /data/backed_up/shared/ThalHi_MRI_2020/BIDS\n",
    "\n",
    "__Upload can be done from HTML validation tool__"
   ]
  },
  {
   "cell_type": "markdown",
   "metadata": {},
   "source": [
    "### ThalHi Resting-state & Diffusion"
   ]
  },
  {
   "cell_type": "markdown",
   "metadata": {},
   "source": [
    "python3 nda_upload.py /mnt/nfs/lss/lss_kahwang_hpc/data/NDA_uploads/thalHi_diffusion ThalHi --copy_dir /data/backed_up/shared/ThalHi_Diffusion/BIDS/\n",
    "\n",
    "__Upload can be done from HTML validation tool__\n"
   ]
  },
  {
   "cell_type": "markdown",
   "metadata": {},
   "source": [
    "### ThalHi EEG"
   ]
  },
  {
   "cell_type": "markdown",
   "metadata": {},
   "source": [
    "python nda_upload.py /mnt/nfs/lss/lss_kahwang_hpc/data/NDA_uploads/thalHi_eeg \"ThalHi OneTree\" --eeg --copy_dir /data/backed_up/shared/ThalHi_EEG/BIDS\n",
    "\n",
    "__Upload must be done directly from own computer (not connected to Thalamege) and with rdss and lss mounted__\n",
    "\n",
    "python nda_upload.py /Volumes/lss_kahwang_hpc/data/NDA_uploads/thalHi_eeg \"ThalHi OneTree\" --eeg --upload \"ThalHi EEG Data\" \"EEG data for hierarchical task control\""
   ]
  },
  {
   "cell_type": "markdown",
   "metadata": {},
   "source": [
    "### Alpha EEG"
   ]
  },
  {
   "cell_type": "markdown",
   "metadata": {},
   "source": [
    "python nda_upload.py /mnt/cifs/rdss/rdss_kahwang/Alpha/AlphaStudy_new/Data/BIDS \"Alpha Sledgehammer Foster EEG ses 1\" --eeg\n",
    "\n",
    "__Upload must be done directly from own computer (not connected to Thalamege) and with rdss and lss mounted__\n",
    "\n",
    "python nda_upload.py /Volumes/rdss_kahwang/Alpha/AlphaStudy_new/Data/BIDS \"Alpha Sledgehammer Foster EEG ses 1\" --eeg --upload \"ThalHi EEG Data\" \"EEG data for hierarchical task control\" \n"
   ]
  }
 ],
 "metadata": {
  "kernelspec": {
   "display_name": "Python 3.8.3 64-bit ('base': conda)",
   "name": "python383jvsc74a57bd0b945bfa426ab19dcb1b57a95042a567490cf91a191c6db7383bb4e52050ebd91"
  },
  "language_info": {
   "name": "python",
   "version": ""
  },
  "metadata": {
   "interpreter": {
    "hash": "b945bfa426ab19dcb1b57a95042a567490cf91a191c6db7383bb4e52050ebd91"
   }
  },
  "orig_nbformat": 2
 },
 "nbformat": 4,
 "nbformat_minor": 2
}