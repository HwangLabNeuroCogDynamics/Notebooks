{
 "cells": [
  {
   "cell_type": "markdown",
   "metadata": {},
   "source": [
    "# Parallel Computing"
   ]
  },
  {
   "cell_type": "markdown",
   "metadata": {},
   "source": [
    "Use the multiprocessing package - https://docs.python.org/3/library/multiprocessing.html\n",
    "\n",
    "They have better documenation than I could ever write  "
   ]
  },
  {
   "cell_type": "markdown",
   "metadata": {},
   "source": [
    "Below is an example of running functional connectivity on parallel on multiple subjects. (this won't run; it's just for show)  \n",
    "Basically, the pool.map takes a function and a list. The function is applied over every element of the list, with the number of cores running concurrently.  \n",
    "You intiate the pool and the map over your list, which here is the subjects. You can use ft.partial to pass in additional arguments, otherwise you can just pass the function"
   ]
  },
  {
   "cell_type": "code",
   "execution_count": null,
   "metadata": {},
   "outputs": [],
   "source": [
    "import multiprocessing\n",
    "import functools as ft\n",
    "\n",
    "pool = multiprocessing.Pool(cores)\n",
    "fc_subjects_calculated = pool.map(\n",
    "    ft.partial(\n",
    "        try_fc_sub,\n",
    "        self.n_masker,\n",
    "        self.m_masker,\n",
    "        self.n,\n",
    "        self.m,\n",
    "        self.bold_WC,\n",
    "        self.censor,\n",
    "        self.censor_WC,\n",
    "        self.is_denoise,\n",
    "        self.bold_dir,\n",
    "    ),\n",
    "    self.fc_subjects,\n",
    ")"
   ]
  },
  {
   "cell_type": "markdown",
   "metadata": {},
   "source": [
    "Actually run it here and see that it runs 4 subjects at the same time"
   ]
  },
  {
   "cell_type": "code",
   "execution_count": null,
   "metadata": {},
   "outputs": [],
   "source": [
    "from thalpy.fc import FcData, plot_correlations\n",
    "from thalpy import masks\n",
    "\n",
    "n_masker = masks.binary_masker(masks.MOREL_PATH)\n",
    "m_masker = masks.roi_masker(masks.SCHAEFER_400_7N_PATH)\n",
    "fc_data = FcData(\"/data/backed_up/shared/test_dataset\", n_masker, m_masker, \"fc_morel_schaeffer.p\", bold_WC=\"*run-1*preproc_bold.nii.gz\")\n",
    "fc_data.calc_fc(cores=4)\n",
    "print(\"DONE!\")"
   ]
  }
 ],
 "metadata": {
  "kernelspec": {
   "display_name": "Python 3",
   "language": "python",
   "name": "python3"
  },
  "language_info": {
   "name": "python",
   "version": ""
  },
  "orig_nbformat": 2
 },
 "nbformat": 4,
 "nbformat_minor": 2
}