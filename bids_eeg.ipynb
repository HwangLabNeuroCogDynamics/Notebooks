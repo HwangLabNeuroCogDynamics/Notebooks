{
 "cells": [
  {
   "cell_type": "markdown",
   "metadata": {},
   "source": [
    "# Bids EEG"
   ]
  },
  {
   "cell_type": "markdown",
   "metadata": {},
   "source": [
    "To create a BIDS directory for EEG, we will rely on the mne and mne_bids python packages. They will do most of the work for us.  \n",
    "If not already installed, install mne and mne_bids packages.\n",
    "```\n",
    "pip3 install --user mne mne_bids\n",
    "```"
   ]
  },
  {
   "cell_type": "markdown",
   "metadata": {},
   "source": [
    "Now we are going to import our packages. In addition to mne and mne_bids, we will need glob, os, numpy, and the thalpy base.  \n",
    "_You need to add the thalpy path in order to import its packages. If you haven't done that, check out the thalpy notebook explaining this._"
   ]
  },
  {
   "cell_type": "code",
   "execution_count": 1,
   "metadata": {},
   "outputs": [],
   "source": [
    "import mne\n",
    "from mne_bids import BIDSPath, write_raw_bids\n",
    "import glob\n",
    "import os\n",
    "from thalpy import base\n",
    "import numpy as np"
   ]
  },
  {
   "cell_type": "markdown",
   "metadata": {},
   "source": [
    "Since we are creating a BIDS directory from our raw EEG data, we will need two main inputs. The directory holding the raw EEG files and the target BIDS directory (this should already be created, make it if you haven't)."
   ]
  },
  {
   "cell_type": "markdown",
   "metadata": {},
   "source": [
    "## Biosemi Files - Our EEG Subjects"
   ]
  },
  {
   "cell_type": "markdown",
   "metadata": {},
   "source": [
    "Any subjects run in our own lab will be in biosemi format. The extension of the raw EEG files are .bdf\n",
    "For this example, we will be going through the process of creating the ThalHi EEG BIDS, but this process is the same for any EEG in Biosemi format. Let's create variables to store our raw eeg and target bids directories.  \n",
    "  \n",
    "A full example script can be found at /mnt/nfs/lss/lss_kahwang_hpc/scripts/thalhi/eeg/biosemi_to_bids.py"
   ]
  },
  {
   "cell_type": "code",
   "execution_count": null,
   "metadata": {},
   "outputs": [],
   "source": [
    "raw_eeg_dir = '/mnt/cifs/rdss/rdss_kahwang/ThalHi_data/EEG_data/eeg_raw/'\n",
    "bids_dir = '/data/backed_up/shared/ThalHi_EEG/BIDS'"
   ]
  },
  {
   "cell_type": "markdown",
   "metadata": {},
   "source": [
    "For Biosemi format, the process of getting events from the EEG is a little more involved than other formats. You will need to define your triggers and their IDs in a dictionary."
   ]
  },
  {
   "cell_type": "code",
   "execution_count": null,
   "metadata": {},
   "outputs": [],
   "source": [
    "EVENT_IDS = {'faceProbe_trig': 151, 'sceneProbe_trig': 153, 'subResp_trig': 157, 'subNonResp_trig': 155,\n",
    "             'IDS_trig': 101, 'Stay_trig': 105, 'EDS_trig': 103, 'ITI': 159, 'biosemiTrig_1': 65536, 'biosemiTrig_2': 65790}"
   ]
  },
  {
   "cell_type": "markdown",
   "metadata": {},
   "source": [
    "Okay, now let's go those bdf files using glob."
   ]
  },
  {
   "cell_type": "code",
   "execution_count": null,
   "metadata": {},
   "outputs": [],
   "source": [
    "os.chdir(raw_eeg_dir)\n",
    "bdf_files = glob.glob('*.bdf')"
   ]
  },
  {
   "cell_type": "markdown",
   "metadata": {},
   "source": [
    "Now that we have our files, we can loop through each one and create the neccesaary bids files for it. If you are adding subjects or sessions to a BIDS directory that already extists you are going to want to check if the subject/session already exists in the BIDS directory. You can use a help function from the thalpy base function to pull out the subject id from the bdf file."
   ]
  },
  {
   "cell_type": "code",
   "execution_count": null,
   "metadata": {},
   "outputs": [],
   "source": [
    "for bdf_file in bdf_files:\n",
    "    subject = base.parse_sub_from_file(bdf_file, prefix='sub_')\n",
    "        if 'sub-' + subject in os.listdir(bids_dir):\n",
    "            continue"
   ]
  },
  {
   "cell_type": "markdown",
   "metadata": {},
   "source": [
    "For purposes of clarity and brevity, we are just going to look at processing one bdf file. Normally, you would loop through each one as shown above. Now that we have our raw bdf file, we will extract the events, set the bids path, and then write the new files into the BIDs directory. First, let's read in the raw bdf into mne format."
   ]
  },
  {
   "cell_type": "code",
   "execution_count": null,
   "metadata": {},
   "outputs": [],
   "source": [
    "raw = mne.io.read_raw_bdf(bdf_file)"
   ]
  },
  {
   "cell_type": "markdown",
   "metadata": {},
   "source": [
    "To create events, we will use mne.find_events to pull events from the raw mne data. (You may have to set shortest_event to 1 here, if you get errors when reading the events).  \n",
    "Then, we will go through and include only events found in our previously defined EVENT_IDS dictionary and return all eligible events in a numpy array."
   ]
  },
  {
   "cell_type": "code",
   "execution_count": null,
   "metadata": {},
   "outputs": [],
   "source": [
    " def generate_events(raw):\n",
    "    events_data = mne.find_events(raw, shortest_event=1)\n",
    "\n",
    "    eligible_events = set(EVENT_IDS.values())\n",
    "    ev_data_excludeIneligibleEvents = []\n",
    "    print(events_data)\n",
    "    for ev in events_data:\n",
    "        # print(ev)\n",
    "        if ev[2] in eligible_events:\n",
    "            ev_data_excludeIneligibleEvents.append(ev)\n",
    "\n",
    "    return np.asarray(ev_data_excludeIneligibleEvents)\n",
    " \n",
    " event_data = generate_events(raw)"
   ]
  },
  {
   "cell_type": "markdown",
   "metadata": {},
   "source": [
    "We will use the BIDsPath object, passing in various data like our subject id, task, datatype as 'eeg', and the root as our target bids_dir. Check out the documentation for other parameters you may need to set.\n",
    "\n",
    "BIDsPath documentation: https://mne.tools/mne-bids/dev/generated/mne_bids.BIDSPath.html"
   ]
  },
  {
   "cell_type": "code",
   "execution_count": null,
   "metadata": {},
   "outputs": [],
   "source": [
    "bids_path = BIDSPath(subject=subject, task='ThalHi',  datatype='eeg',\n",
    "                         root=bids_dir)"
   ]
  },
  {
   "cell_type": "markdown",
   "metadata": {},
   "source": [
    "Finally, we will write the raw bids files to our target EEG. We will call the write_raw_bids funciton and pass our raw data, bids_path, events_data, and EVENT_IDs.\n",
    "\n",
    "write_raw_bids docs: https://mne.tools/mne-bids/stable/generated/mne_bids.write_raw_bids.html"
   ]
  },
  {
   "cell_type": "code",
   "execution_count": null,
   "metadata": {},
   "outputs": [],
   "source": [
    "write_raw_bids(raw, bids_path=bids_path, events_data=event_data, event_id=EVENT_IDS)"
   ]
  },
  {
   "cell_type": "markdown",
   "metadata": {},
   "source": [
    "## Brainvision Files - Hospital Subjects"
   ]
  },
  {
   "cell_type": "markdown",
   "metadata": {},
   "source": [
    "Subjects who undergo EEG at the hospital will have raw EEG data in brainvision format. The process will differ only slight in getting the files and generating events. I will only explain the differences as the rest of the process is the same.  \n",
    "Example script: /mnt/nfs/lss/lss_kahwang_hpc/scripts/thalhi/eeg/brainvision_to_bids.py"
   ]
  },
  {
   "cell_type": "markdown",
   "metadata": {},
   "source": [
    "The brainvision files you need have the .vhdr extension. As before, glob to get all the files."
   ]
  },
  {
   "cell_type": "code",
   "execution_count": null,
   "metadata": {},
   "outputs": [],
   "source": [
    "os.chdir(raw_eeg_dir)\n",
    "bdf_files = glob.glob(\"*.vhdr\")"
   ]
  },
  {
   "cell_type": "markdown",
   "metadata": {},
   "source": [
    "The only other difference is generating events. The Brainvision events are easier to pull out. Simply use, the events_from_annotations funciton and pass the raw data. This will return the events data and event ids."
   ]
  },
  {
   "cell_type": "code",
   "execution_count": null,
   "metadata": {},
   "outputs": [],
   "source": [
    "events_data, events_id = mne.events_from_annotations(raw)"
   ]
  }
 ],
 "metadata": {
  "kernelspec": {
   "display_name": "Python 3.8.3 64-bit ('anaconda3-2020.07': virtualenv)",
   "name": "python383jvsc74a57bd0b945bfa426ab19dcb1b57a95042a567490cf91a191c6db7383bb4e52050ebd91"
  },
  "language_info": {
   "name": "python",
   "version": ""
  },
  "metadata": {
   "interpreter": {
    "hash": "b945bfa426ab19dcb1b57a95042a567490cf91a191c6db7383bb4e52050ebd91"
   }
  },
  "orig_nbformat": 2
 },
 "nbformat": 4,
 "nbformat_minor": 2
}