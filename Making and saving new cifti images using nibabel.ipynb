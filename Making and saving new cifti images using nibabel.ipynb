{
 "cells": [
  {
   "cell_type": "markdown",
   "metadata": {},
   "source": [
    "In this notebook we'll try to figure out if we can use nibabel to create and save a cifiti image, which can be visuzlized using the connectome workbench.\n",
    "For example if you use the Glasser or Cole Anticivec parcellation, they are in cifti format. It would be good if you can dump values onto each parcel/ROI and visualize them.\n"
   ]
  },
  {
   "cell_type": "code",
   "execution_count": 1,
   "metadata": {},
   "outputs": [
    {
     "name": "stdout",
     "output_type": "stream",
     "text": [
      "nibabel version:3.1.0\n"
     ]
    }
   ],
   "source": [
    "import nibabel as nib # we use version\n",
    "print(\"nibabel version:\" + nib.__version__)\n",
    "import numpy as np\n",
    "import pandas as pd"
   ]
  },
  {
   "cell_type": "markdown",
   "metadata": {},
   "source": [
    "Let us start by loading an example CIFTI file. We will use cifti files from the Cole Anticivec parcellation repository: \n",
    "https://github.com/ColeLab/ColeAnticevicNetPartition \\\n",
    "In this repo there are also workbench \"scene\" files you can use to visualize stuff in the connectome workbench\n",
    "\n",
    "We will play around with two different types of cifti files \\\n",
    "dscalar, which dumps a scalar value to each surface vertex and each volume voxle (hence \"dense\") \\\n",
    "dlabel, which dumps a label integer value to each vertex/voxel, this is the \"parcel ROI file\" \\\n",
    "\n",
    "These files will be loaded as cifti2 object with nibabel"
   ]
  },
  {
   "cell_type": "code",
   "execution_count": 2,
   "metadata": {},
   "outputs": [],
   "source": [
    "template_cifti_dlabelfile = nib.load(\"../ColeAnticevicNetPartition/CortexSubcortex_ColeAnticevic_NetPartition_wSubcorGSR_parcels_LR.dlabel.nii\")\n",
    "template_cifti_dscalarfile = nib.load(\"../ColeAnticevicNetPartition/CortexSubcortex_ColeAnticevic_NetPartition_wSubcorGSR_parcels_LR_ReorderedByNetworks.dscalar.nii\")\n"
   ]
  },
  {
   "cell_type": "markdown",
   "metadata": {},
   "source": [
    "we can load the data assoicated with each object and exaime its content"
   ]
  },
  {
   "cell_type": "code",
   "execution_count": 3,
   "metadata": {},
   "outputs": [
    {
     "data": {
      "text/plain": [
       "(1, 91282)"
      ]
     },
     "execution_count": 3,
     "metadata": {},
     "output_type": "execute_result"
    }
   ],
   "source": [
    "template_cifti_dscalarfile.get_fdata().shape"
   ]
  },
  {
   "cell_type": "code",
   "execution_count": 4,
   "metadata": {},
   "outputs": [
    {
     "data": {
      "text/plain": [
       "718"
      ]
     },
     "execution_count": 4,
     "metadata": {},
     "output_type": "execute_result"
    }
   ],
   "source": [
    "len(np.unique(template_cifti_dlabelfile.get_fdata()))"
   ]
  },
  {
   "cell_type": "markdown",
   "metadata": {},
   "source": [
    "So there are 718 unique ROIs in the dlabel file from the Cole Anticvic parcellation. How do we know what each integer represents? They provided a text file to label those."
   ]
  },
  {
   "cell_type": "code",
   "execution_count": 5,
   "metadata": {},
   "outputs": [],
   "source": [
    "label_df = pd.read_csv(\"../ColeAnticevicNetPartition/CortexSubcortex_ColeAnticevic_NetPartition_wSubcorGSR_parcels_LR_LabelKey.txt\", sep = \"\\t\")"
   ]
  },
  {
   "cell_type": "code",
   "execution_count": 6,
   "metadata": {},
   "outputs": [
    {
     "data": {
      "text/html": [
       "<div>\n",
       "<style scoped>\n",
       "    .dataframe tbody tr th:only-of-type {\n",
       "        vertical-align: middle;\n",
       "    }\n",
       "\n",
       "    .dataframe tbody tr th {\n",
       "        vertical-align: top;\n",
       "    }\n",
       "\n",
       "    .dataframe thead th {\n",
       "        text-align: right;\n",
       "    }\n",
       "</style>\n",
       "<table border=\"1\" class=\"dataframe\">\n",
       "  <thead>\n",
       "    <tr style=\"text-align: right;\">\n",
       "      <th></th>\n",
       "      <th>INDEX</th>\n",
       "      <th>KEYVALUE</th>\n",
       "      <th>LABEL</th>\n",
       "      <th>RED</th>\n",
       "      <th>GREEN</th>\n",
       "      <th>BLUE</th>\n",
       "      <th>ALPHA</th>\n",
       "      <th>HEMISPHERE</th>\n",
       "      <th>NETWORK</th>\n",
       "      <th>NETWORKKEY</th>\n",
       "      <th>NETWORKSORTEDORDER</th>\n",
       "    </tr>\n",
       "  </thead>\n",
       "  <tbody>\n",
       "    <tr>\n",
       "      <th>0</th>\n",
       "      <td>1</td>\n",
       "      <td>1</td>\n",
       "      <td>Visual1-04_L-Ctx</td>\n",
       "      <td>0</td>\n",
       "      <td>0</td>\n",
       "      <td>255</td>\n",
       "      <td>255</td>\n",
       "      <td>L</td>\n",
       "      <td>Visual1</td>\n",
       "      <td>1</td>\n",
       "      <td>1</td>\n",
       "    </tr>\n",
       "    <tr>\n",
       "      <th>1</th>\n",
       "      <td>2</td>\n",
       "      <td>2</td>\n",
       "      <td>Visual2-28_L-Ctx</td>\n",
       "      <td>100</td>\n",
       "      <td>0</td>\n",
       "      <td>255</td>\n",
       "      <td>255</td>\n",
       "      <td>L</td>\n",
       "      <td>Visual2</td>\n",
       "      <td>2</td>\n",
       "      <td>70</td>\n",
       "    </tr>\n",
       "    <tr>\n",
       "      <th>2</th>\n",
       "      <td>3</td>\n",
       "      <td>3</td>\n",
       "      <td>Visual2-29_L-Ctx</td>\n",
       "      <td>100</td>\n",
       "      <td>0</td>\n",
       "      <td>255</td>\n",
       "      <td>255</td>\n",
       "      <td>L</td>\n",
       "      <td>Visual2</td>\n",
       "      <td>2</td>\n",
       "      <td>71</td>\n",
       "    </tr>\n",
       "    <tr>\n",
       "      <th>3</th>\n",
       "      <td>4</td>\n",
       "      <td>4</td>\n",
       "      <td>Visual2-30_L-Ctx</td>\n",
       "      <td>100</td>\n",
       "      <td>0</td>\n",
       "      <td>255</td>\n",
       "      <td>255</td>\n",
       "      <td>L</td>\n",
       "      <td>Visual2</td>\n",
       "      <td>2</td>\n",
       "      <td>72</td>\n",
       "    </tr>\n",
       "    <tr>\n",
       "      <th>4</th>\n",
       "      <td>5</td>\n",
       "      <td>5</td>\n",
       "      <td>Visual2-31_L-Ctx</td>\n",
       "      <td>100</td>\n",
       "      <td>0</td>\n",
       "      <td>255</td>\n",
       "      <td>255</td>\n",
       "      <td>L</td>\n",
       "      <td>Visual2</td>\n",
       "      <td>2</td>\n",
       "      <td>73</td>\n",
       "    </tr>\n",
       "  </tbody>\n",
       "</table>\n",
       "</div>"
      ],
      "text/plain": [
       "   INDEX  KEYVALUE             LABEL  RED  GREEN  BLUE  ALPHA HEMISPHERE  \\\n",
       "0      1         1  Visual1-04_L-Ctx    0      0   255    255          L   \n",
       "1      2         2  Visual2-28_L-Ctx  100      0   255    255          L   \n",
       "2      3         3  Visual2-29_L-Ctx  100      0   255    255          L   \n",
       "3      4         4  Visual2-30_L-Ctx  100      0   255    255          L   \n",
       "4      5         5  Visual2-31_L-Ctx  100      0   255    255          L   \n",
       "\n",
       "   NETWORK  NETWORKKEY  NETWORKSORTEDORDER  \n",
       "0  Visual1           1                   1  \n",
       "1  Visual2           2                  70  \n",
       "2  Visual2           2                  71  \n",
       "3  Visual2           2                  72  \n",
       "4  Visual2           2                  73  "
      ]
     },
     "execution_count": 6,
     "metadata": {},
     "output_type": "execute_result"
    }
   ],
   "source": [
    "label_df.head()"
   ]
  },
  {
   "cell_type": "code",
   "execution_count": 7,
   "metadata": {},
   "outputs": [
    {
     "name": "stdout",
     "output_type": "stream",
     "text": [
      "38\n"
     ]
    }
   ],
   "source": [
    "#Here are all the thalamus parcels\n",
    "label_df.loc[label_df['LABEL'].str.contains('Thalamus')]\n",
    "print(len(label_df.loc[label_df['LABEL'].str.contains('Thalamus')]))"
   ]
  },
  {
   "cell_type": "markdown",
   "metadata": {},
   "source": [
    "now let us write a fake value, say -1000, to all the thalamus voxels to a new dscalar file, using the thalamus parcel labels from the dlabel cifti file to index their locations. "
   ]
  },
  {
   "cell_type": "code",
   "execution_count": 8,
   "metadata": {},
   "outputs": [],
   "source": [
    "#need to reload to link to new data object\n",
    "template_cifti_dlabelfile = nib.load(\"../ColeAnticevicNetPartition/CortexSubcortex_ColeAnticevic_NetPartition_wSubcorGSR_parcels_LR.dlabel.nii\")\n",
    "new_label_data = template_cifti_dlabelfile.get_fdata()"
   ]
  },
  {
   "cell_type": "code",
   "execution_count": 9,
   "metadata": {},
   "outputs": [
    {
     "name": "stdout",
     "output_type": "stream",
     "text": [
      "1550\n",
      "1560\n",
      "1570\n",
      "1580\n",
      "1590\n",
      "1600\n",
      "1610\n",
      "1620\n",
      "1630\n",
      "2280\n",
      "2290\n",
      "3270\n",
      "3280\n",
      "4360\n",
      "4370\n",
      "4380\n",
      "4390\n",
      "5230\n",
      "5240\n",
      "7470\n",
      "7480\n",
      "8230\n",
      "8240\n",
      "8250\n",
      "8260\n",
      "8270\n",
      "8280\n",
      "8290\n",
      "8300\n",
      "8310\n",
      "9270\n",
      "9280\n",
      "9290\n",
      "9300\n",
      "9310\n",
      "9320\n",
      "10280\n",
      "10290\n"
     ]
    }
   ],
   "source": [
    "for key in label_df.loc[label_df['LABEL'].str.contains('Thalamus')]['KEYVALUE']:\n",
    "    print(key)\n",
    "    new_label_data[0,new_label_data[0,:]==key]=-1000"
   ]
  },
  {
   "cell_type": "markdown",
   "metadata": {},
   "source": [
    "now we will create a new cifti dscalr file with this new_label_data, by using the header info from a cifti dscalar file as a template, and replace the data object with new_label_data \\\n",
    "https://nipy.org/nibabel/reference/nibabel.cifti2.html#nibabel.cifti2.cifti2.Cifti2Image\n"
   ]
  },
  {
   "cell_type": "code",
   "execution_count": 10,
   "metadata": {},
   "outputs": [],
   "source": [
    "new_cifti = nib.cifti2.cifti2.Cifti2Image(new_label_data, template_cifti_dscalarfile.header)\n",
    "nib.save(new_cifti, 'new_cifti.dscalar.nii')"
   ]
  },
  {
   "cell_type": "markdown",
   "metadata": {},
   "source": [
    "In workbench the thalamus is in dark blue\n",
    "\n",
    "![](test1.png)"
   ]
  },
  {
   "cell_type": "markdown",
   "metadata": {},
   "source": [
    "Now let us replace each thalamus parcel with a unique value. We will do this in the order of the parcels listed in Cole/Anticivec's ROI list. Imagin that you have a vector of data that are correctly ordered (say from the thalamocortical FC matrix), you can use this logic to display custom values in the correct anatomical location. The key is you have to make sure the order of your custom thalamic data matches the parcel order in the Cole Anticivec ROI parcel file."
   ]
  },
  {
   "cell_type": "code",
   "execution_count": 11,
   "metadata": {},
   "outputs": [],
   "source": [
    "template_cifti_dlabelfile = nib.load(\"../ColeAnticevicNetPartition/CortexSubcortex_ColeAnticevic_NetPartition_wSubcorGSR_parcels_LR.dlabel.nii\")\n",
    "label_data = template_cifti_dlabelfile.get_fdata()\n",
    "new_label_data = label_data.copy() # create copy so not to link to original copy\n",
    "new_label_data[new_label_data!=0] = 0\n",
    "\n",
    "i = 1\n",
    "for key in label_df.loc[label_df['LABEL'].str.contains('Thalamus')]['KEYVALUE']:\n",
    "    new_label_data[0,label_data[0,:]==key]=i\n",
    "    i = i+1\n",
    "    "
   ]
  },
  {
   "cell_type": "code",
   "execution_count": 12,
   "metadata": {},
   "outputs": [
    {
     "data": {
      "text/plain": [
       "array([ 0.,  1.,  2.,  3.,  4.,  5.,  6.,  7.,  8.,  9., 10., 11., 12.,\n",
       "       13., 14., 15., 16., 17., 18., 19., 20., 21., 22., 23., 24., 25.,\n",
       "       26., 27., 28., 29., 30., 31., 32., 33., 34., 35., 36., 37., 38.])"
      ]
     },
     "execution_count": 12,
     "metadata": {},
     "output_type": "execute_result"
    }
   ],
   "source": [
    "np.unique(new_label_data)"
   ]
  },
  {
   "cell_type": "code",
   "execution_count": 13,
   "metadata": {},
   "outputs": [],
   "source": [
    "#save and visualize\n",
    "new_cifti = nib.cifti2.cifti2.Cifti2Image(new_label_data, template_cifti_dscalarfile.header)\n",
    "nib.save(new_cifti, 'new_cifti.dscalar.nii')"
   ]
  },
  {
   "cell_type": "markdown",
   "metadata": {},
   "source": [
    "In workbench each thalamus parcel has a unique color. And notice that everything else got set to 0.\n",
    "\n",
    "![](test2.png)"
   ]
  },
  {
   "cell_type": "markdown",
   "metadata": {},
   "source": [
    "So in the Cole/Anticivec parcellation there are 38 unique parcels in the thalamus. Here we relabeled them using the original ascending order in the dlabel cifti file, and visualize those integer values. As long as you have a vector of 38 thalamic parcel values that you are sure matches the  order in the original dlabel parcellation file, you can then write custom cifti files using the logic described above to visualize those values."
   ]
  },
  {
   "cell_type": "markdown",
   "metadata": {},
   "source": [
    "Now, let us try to visualize some of our own thalamus data from the thalamocortical FC project."
   ]
  },
  {
   "cell_type": "code",
   "execution_count": 37,
   "metadata": {},
   "outputs": [],
   "source": [
    "#load HCP matrices\n",
    "rest = np.load('data/ColeAntecivic_wGSR_allrfMRI_ThaAr_X_CtxAr.npy')\n",
    "wm = np.load('data/ColeAntecivic_wGSR_allWM_ThaAr_X_CtxAr.npy')\n",
    "lan = np.load('data/ColeAntecivic_wGSR_allLANGUAGE_ThaAr_X_CtxAr.npy')\n",
    "motor = np.load('data/ColeAntecivic_wGSR_allMOTOR_ThaAr_X_CtxAr.npy')\n",
    "social = np.load('data/ColeAntecivic_wGSR_allSOCIAL_ThaAr_X_CtxAr.npy')\n",
    "gamb = np.load('data/ColeAntecivic_wGSR_allGAMBLING_ThaAr_X_CtxAr.npy')\n",
    "task = np.load('data/ColeAntecivic_wGSR_alltask_ThaAr_X_CtxAr.npy')"
   ]
  },
  {
   "cell_type": "code",
   "execution_count": 25,
   "metadata": {},
   "outputs": [],
   "source": [
    "rest_v_task = task-rest\n",
    "rest_v_task = np.mean(rest_v_task, axis=1)"
   ]
  },
  {
   "cell_type": "code",
   "execution_count": 30,
   "metadata": {},
   "outputs": [],
   "source": [
    "def write_tha_cifti(input_vector, fn):\n",
    "    template_cifti_dlabelfile = nib.load(\"../ColeAnticevicNetPartition/CortexSubcortex_ColeAnticevic_NetPartition_wSubcorGSR_parcels_LR.dlabel.nii\")\n",
    "    label_data = template_cifti_dlabelfile.get_fdata()\n",
    "    new_label_data = label_data.copy() # create copy so not to link to original copy\n",
    "    new_label_data[new_label_data!=0] = 0\n",
    "\n",
    "\n",
    "    for i, key in enumerate(label_df.loc[label_df['LABEL'].str.contains('Thalamus')]['KEYVALUE']):\n",
    "        new_label_data[0,label_data[0,:]==key]=input_vector[i]\n",
    "    \n",
    "    new_cifti = nib.cifti2.cifti2.Cifti2Image(new_label_data, template_cifti_dscalarfile.header)\n",
    "    nib.save(new_cifti, fn)\n",
    "    "
   ]
  },
  {
   "cell_type": "code",
   "execution_count": 31,
   "metadata": {},
   "outputs": [],
   "source": [
    "write_tha_cifti(rest_v_task, 'rest_v_task.dscalar.nii')"
   ]
  },
  {
   "cell_type": "code",
   "execution_count": 34,
   "metadata": {},
   "outputs": [],
   "source": [
    "rest_v_wm = wm-rest\n",
    "rest_v_wm = np.mean(rest_v_wm, axis=1)\n",
    "write_tha_cifti(rest_v_wm, 'rest_v_wm.dscalar.nii')"
   ]
  },
  {
   "cell_type": "code",
   "execution_count": 35,
   "metadata": {},
   "outputs": [],
   "source": [
    "rest_v_lan = lan-rest\n",
    "rest_v_lan = np.mean(rest_v_lan, axis=1)\n",
    "write_tha_cifti(rest_v_lan, 'rest_v_lan.dscalar.nii')"
   ]
  },
  {
   "cell_type": "code",
   "execution_count": 42,
   "metadata": {},
   "outputs": [],
   "source": [
    "rest_v_gamb = gamb-rest\n",
    "rest_v_gamb = np.mean(rest_v_gamb, axis=1)\n",
    "write_tha_cifti(rest_v_gamb, 'rest_v_gamb.dscalar.nii')"
   ]
  },
  {
   "cell_type": "code",
   "execution_count": 43,
   "metadata": {},
   "outputs": [],
   "source": [
    "rest_v_social = social-rest\n",
    "rest_v_social = np.mean(rest_v_social, axis=1)\n",
    "write_tha_cifti(rest_v_social, 'rest_v_social.dscalar.nii')"
   ]
  },
  {
   "cell_type": "code",
   "execution_count": 44,
   "metadata": {},
   "outputs": [],
   "source": [
    "rest_v_motor = motor-rest\n",
    "rest_v_motor = np.mean(rest_v_motor, axis=1)\n",
    "write_tha_cifti(rest_v_motor, 'rest_v_motor.dscalar.nii')"
   ]
  },
  {
   "cell_type": "code",
   "execution_count": null,
   "metadata": {},
   "outputs": [],
   "source": []
  }
 ],
 "metadata": {
  "kernelspec": {
   "display_name": "Python 3",
   "language": "python",
   "name": "python3"
  },
  "language_info": {
   "codemirror_mode": {
    "name": "ipython",
    "version": 3
   },
   "file_extension": ".py",
   "mimetype": "text/x-python",
   "name": "python",
   "nbconvert_exporter": "python",
   "pygments_lexer": "ipython3",
   "version": "3.7.6"
  }
 },
 "nbformat": 4,
 "nbformat_minor": 4
}
