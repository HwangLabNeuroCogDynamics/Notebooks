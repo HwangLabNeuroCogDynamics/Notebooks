{
 "cells": [
  {
   "cell_type": "markdown",
   "metadata": {},
   "source": [
    "In this notebook we'll try to figure out if we can use nibabel to create and save a cifiti image, which can be visuzlized using the connectome workbench.\n",
    "For example if you use the Glasser or Cole Anticivec parcellation, they are in cifti format. It would be good if you can dump values onto each parcel/ROI and visualize them.\n"
   ]
  },
  {
   "cell_type": "code",
   "execution_count": null,
   "metadata": {},
   "outputs": [],
   "source": [
    "import nibabel as nib # we use version\n",
    "print(\"nibabel version:\" + nib.__version__)\n",
    "import numpy as np\n",
    "import pandas as pd"
   ]
  },
  {
   "cell_type": "markdown",
   "metadata": {},
   "source": [
    "Let us start by loading an example CIFTI file. We will use cifti files from the Cole Anticivec parcellation repository: \n",
    "https://github.com/ColeLab/ColeAnticevicNetPartition \\\n",
    "In this repo there are also workbench \"scene\" files you can use to visualize stuff in the connectome workbench\n",
    "\n",
    "We will play around with two different types of cifti files \\\n",
    "dscalar, which dumps a scalar value to each surface vertex and each volume voxle (hence \"dense\") \\\n",
    "dlabel, which dumps a label integer value to each vertex/voxel, this is the \"parcel ROI file\" \\\n",
    "\n",
    "These files will be loaded as cifti2 object with nibabel"
   ]
  },
  {
   "cell_type": "code",
   "execution_count": null,
   "metadata": {},
   "outputs": [],
   "source": [
    "template_cifti_dlabelfile = nib.load(\"../ColeAnticevicNetPartition/CortexSubcortex_ColeAnticevic_NetPartition_wSubcorGSR_parcels_LR.dlabel.nii\")\n",
    "template_cifti_dscalarfile = nib.load(\"../ColeAnticevicNetPartition/CortexSubcortex_ColeAnticevic_NetPartition_wSubcorGSR_parcels_LR_ReorderedByNetworks.dscalar.nii\")\n"
   ]
  },
  {
   "cell_type": "markdown",
   "metadata": {},
   "source": [
    "we can load the data assoicated with each object and exaime its content"
   ]
  },
  {
   "cell_type": "code",
   "execution_count": null,
   "metadata": {},
   "outputs": [],
   "source": [
    "template_cifti_dscalarfile.get_fdata().shape"
   ]
  },
  {
   "cell_type": "code",
   "execution_count": null,
   "metadata": {},
   "outputs": [],
   "source": [
    "len(np.unique(template_cifti_dlabelfile.get_fdata()))"
   ]
  },
  {
   "cell_type": "markdown",
   "metadata": {},
   "source": [
    "So there are 718 unique ROIs in the dlabel file from the Cole Anticvic parcellation. How do we know what each integer represents? They provided a text file to label those."
   ]
  },
  {
   "cell_type": "code",
   "execution_count": null,
   "metadata": {},
   "outputs": [],
   "source": [
    "label_df = pd.read_csv(\"../ColeAnticevicNetPartition/CortexSubcortex_ColeAnticevic_NetPartition_wSubcorGSR_parcels_LR_LabelKey.txt\", sep = \"\\t\")"
   ]
  },
  {
   "cell_type": "code",
   "execution_count": null,
   "metadata": {},
   "outputs": [],
   "source": [
    "label_df.head()"
   ]
  },
  {
   "cell_type": "code",
   "execution_count": null,
   "metadata": {},
   "outputs": [],
   "source": [
    "#Here are all the thalamus parcels\n",
    "label_df.loc[label_df['LABEL'].str.contains('Thalamus')]\n",
    "print(len(label_df.loc[label_df['LABEL'].str.contains('Thalamus')]))"
   ]
  },
  {
   "cell_type": "markdown",
   "metadata": {},
   "source": [
    "now let us write a fake value, say -1000, to all the thalamus voxels to a new dscalar file, using the thalamus parcel labels from the dlabel cifti file to index their locations. "
   ]
  },
  {
   "cell_type": "code",
   "execution_count": null,
   "metadata": {},
   "outputs": [],
   "source": [
    "#need to reload to link to new data object\n",
    "template_cifti_dlabelfile = nib.load(\"../ColeAnticevicNetPartition/CortexSubcortex_ColeAnticevic_NetPartition_wSubcorGSR_parcels_LR.dlabel.nii\")\n",
    "new_label_data = template_cifti_dlabelfile.get_fdata()"
   ]
  },
  {
   "cell_type": "code",
   "execution_count": null,
   "metadata": {},
   "outputs": [],
   "source": [
    "for key in label_df.loc[label_df['LABEL'].str.contains('Thalamus')]['KEYVALUE']:\n",
    "    print(key)\n",
    "    new_label_data[0,new_label_data[0,:]==key]=-1000"
   ]
  },
  {
   "cell_type": "markdown",
   "metadata": {},
   "source": [
    "now we will create a new cifti dscalr file with this new_label_data, by using the header info from a cifti dscalar file as a template, and replace the data object with new_label_data \\\n",
    "https://nipy.org/nibabel/reference/nibabel.cifti2.html#nibabel.cifti2.cifti2.Cifti2Image\n"
   ]
  },
  {
   "cell_type": "code",
   "execution_count": null,
   "metadata": {},
   "outputs": [],
   "source": [
    "new_cifti = nib.cifti2.cifti2.Cifti2Image(new_label_data, template_cifti_dscalarfile.header)\n",
    "nib.save(new_cifti, 'new_cifti.dscalar.nii')"
   ]
  },
  {
   "cell_type": "markdown",
   "metadata": {},
   "source": [
    "In workbench the thalamus is in dark blue\n",
    "\n",
    "![](test1.png)"
   ]
  },
  {
   "cell_type": "markdown",
   "metadata": {},
   "source": [
    "Now let us replace each thalamus parcel with a unique value. We will do this in the order of the parcels listed in Cole/Anticivec's ROI list. Imagin that you have a vector of data that are correctly ordered (say from the thalamocortical FC matrix), you can use this logic to display custom values in the correct anatomical location. The key is you have to make sure the order of your custom thalamic data matches the parcel order in the Cole Anticivec ROI parcel file."
   ]
  },
  {
   "cell_type": "code",
   "execution_count": null,
   "metadata": {},
   "outputs": [],
   "source": [
    "template_cifti_dlabelfile = nib.load(\"../ColeAnticevicNetPartition/CortexSubcortex_ColeAnticevic_NetPartition_wSubcorGSR_parcels_LR.dlabel.nii\")\n",
    "label_data = template_cifti_dlabelfile.get_fdata()\n",
    "new_label_data = label_data.copy() # create copy so not to link to original copy\n",
    "new_label_data[new_label_data!=0] = 0\n",
    "\n",
    "i = 1\n",
    "for key in label_df.loc[label_df['LABEL'].str.contains('Thalamus')]['KEYVALUE']:\n",
    "    new_label_data[0,label_data[0,:]==key]=i\n",
    "    i = i+1\n",
    "    "
   ]
  },
  {
   "cell_type": "code",
   "execution_count": null,
   "metadata": {},
   "outputs": [],
   "source": [
    "np.unique(new_label_data)"
   ]
  },
  {
   "cell_type": "code",
   "execution_count": null,
   "metadata": {},
   "outputs": [],
   "source": [
    "#save and visualize\n",
    "new_cifti = nib.cifti2.cifti2.Cifti2Image(new_label_data, template_cifti_dscalarfile.header)\n",
    "nib.save(new_cifti, 'new_cifti.dscalar.nii')"
   ]
  },
  {
   "cell_type": "markdown",
   "metadata": {},
   "source": [
    "In workbench each thalamus parcel has a unique color. And notice that everything else got set to 0.\n",
    "\n",
    "![](test2.png)"
   ]
  },
  {
   "cell_type": "markdown",
   "metadata": {},
   "source": [
    "So in the Cole/Anticivec parcellation there are 38 unique parcels in the thalamus. Here we relabeled them using the original ascending order in the dlabel cifti file, and visualize those integer values. As long as you have a vector of 38 thalamic parcel values that you are sure matches the  order in the original dlabel parcellation file, you can then write custom cifti files using the logic described above to visualize those values."
   ]
  },
  {
   "cell_type": "code",
   "execution_count": null,
   "metadata": {},
   "outputs": [],
   "source": []
  }
 ],
 "metadata": {
  "kernelspec": {
   "display_name": "Python 3",
   "language": "python",
   "name": "python3"
  },
  "language_info": {
   "codemirror_mode": {
    "name": "ipython",
    "version": 3
   },
   "file_extension": ".py",
   "mimetype": "text/x-python",
   "name": "python",
   "nbconvert_exporter": "python",
   "pygments_lexer": "ipython3",
   "version": "3.7.6"
  }
 },
 "nbformat": 4,
 "nbformat_minor": 4
}
